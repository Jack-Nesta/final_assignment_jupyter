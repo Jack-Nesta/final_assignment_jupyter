{
 "cells": [
  {
   "cell_type": "markdown",
   "id": "d2d1f911-93e9-4d2a-9416-74b6258c2cd9",
   "metadata": {},
   "source": [
    "# Data Science Tools and Ecosystem"
   ]
  },
  {
   "cell_type": "markdown",
   "id": "07d527cd-7089-44a5-9592-4eccfb1430c1",
   "metadata": {},
   "source": [
    "#### In this notebook, Data Science Tools and Ecosystem are summarized ####\n",
    "**Objectives**  \n",
    "*List popular languages for Data Science*  \n",
    "- Python\n",
    "- R\n",
    "- Julia\n"
   ]
  },
  {
   "cell_type": "markdown",
   "id": "3938751d-1e43-4728-82d9-a725970b1adb",
   "metadata": {},
   "source": [
    "#### Some of the popular languages that Data Scientists use are: ####  \n",
    "1. Python\n",
    "2. R\n",
    "3. Julia\n"
   ]
  },
  {
   "cell_type": "markdown",
   "id": "187af39b-f9f6-4219-8e17-b3dbccb73765",
   "metadata": {},
   "source": [
    "#### Some of the commonly used libraries used by Data Scientists include: ####\n",
    "1. Pandas\n",
    "2. Scikit Learn\n",
    "3. Caret\n"
   ]
  },
  {
   "cell_type": "markdown",
   "id": "fcbd8957-4797-48ae-a593-2fed8327c010",
   "metadata": {},
   "source": [
    "#### Create a markdown cell with a table of Data Science tools ####\n",
    "|Data Science Tools|\n",
    "|------------------|\n",
    "|Jupyter Noteboks|\n",
    "|RStudio|\n",
    "|Appache Zeppeline|"
   ]
  },
  {
   "cell_type": "markdown",
   "id": "0ac25057-aab7-4665-b620-1960b8e65286",
   "metadata": {},
   "source": [
    "##### Below are a few examples of evaluating arithmetic expressions in Python ####\n",
    "|Level|Category\n",
    "|----|------|\n",
    "|7(High)| Brackets|\n",
    "|6|exponents|\n",
    "|5|Mutliplication and division|\n",
    "|4|Addition and subtraction|\n",
    "|5|Left to Right on same precedence|\n"
   ]
  },
  {
   "cell_type": "markdown",
   "id": "aebdd824-e1f9-405e-8d73-c4b76dc59770",
   "metadata": {},
   "source": [
    "### This a simple arithmetic expression to mutiply then add integers\n"
   ]
  },
  {
   "cell_type": "code",
   "execution_count": 2,
   "id": "00fa382b-ee89-4feb-9771-76a9bcff6047",
   "metadata": {},
   "outputs": [
    {
     "data": {
      "text/plain": [
       "17"
      ]
     },
     "execution_count": 2,
     "metadata": {},
     "output_type": "execute_result"
    }
   ],
   "source": [
    "(3*4)+5"
   ]
  },
  {
   "cell_type": "code",
   "execution_count": 10,
   "id": "eb1d349e-2162-40bd-8178-cf1f61412fe6",
   "metadata": {},
   "outputs": [
    {
     "name": "stdout",
     "output_type": "stream",
     "text": [
      "3.3333333333333335\n"
     ]
    }
   ],
   "source": [
    "#  This will convert 200 minutes to hours by diving by 60\n",
    "print (200/60)\n"
   ]
  },
  {
   "cell_type": "markdown",
   "id": "175a59bf-3e05-482b-92be-4c994ee77142",
   "metadata": {},
   "source": [
    "## Author\n",
    "##### Patrick Kariuki"
   ]
  }
 ],
 "metadata": {
  "kernelspec": {
   "display_name": "Python 3 (ipykernel)",
   "language": "python",
   "name": "python3"
  },
  "language_info": {
   "codemirror_mode": {
    "name": "ipython",
    "version": 3
   },
   "file_extension": ".py",
   "mimetype": "text/x-python",
   "name": "python",
   "nbconvert_exporter": "python",
   "pygments_lexer": "ipython3",
   "version": "3.13.3"
  }
 },
 "nbformat": 4,
 "nbformat_minor": 5
}
